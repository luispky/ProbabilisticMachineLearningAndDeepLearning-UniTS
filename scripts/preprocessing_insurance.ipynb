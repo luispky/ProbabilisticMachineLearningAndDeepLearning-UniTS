{
 "cells": [
  {
   "cell_type": "code",
   "execution_count": 1,
   "metadata": {},
   "outputs": [],
   "source": [
    "# packages\n",
    "\n",
    "import os\n",
    "import pandas as pd\n",
    "import numpy as np\n",
    "import matplotlib.pyplot as plt\n",
    "from sklearn.preprocessing import LabelEncoder\n",
    "from sklearn.preprocessing import StandardScaler\n",
    "\n"
   ]
  },
  {
   "cell_type": "code",
   "execution_count": 6,
   "metadata": {},
   "outputs": [],
   "source": [
    "# read data\n",
    "\n",
    "# Get the current working directory\n",
    "cwd = os.getcwd()\n",
    "data = pd.read_csv(cwd + '/../datasets/train.csv')\n",
    "\n",
    "# remove spaces in column names\n",
    "data.columns = data.columns.str.replace(' ', '')"
   ]
  },
  {
   "cell_type": "code",
   "execution_count": 7,
   "metadata": {},
   "outputs": [
    {
     "name": "stdout",
     "output_type": "stream",
     "text": [
      "<class 'pandas.core.frame.DataFrame'>\n",
      "RangeIndex: 381109 entries, 0 to 381108\n",
      "Data columns (total 12 columns):\n",
      " #   Column                Non-Null Count   Dtype  \n",
      "---  ------                --------------   -----  \n",
      " 0   id                    381109 non-null  int64  \n",
      " 1   Gender                381109 non-null  object \n",
      " 2   Age                   381109 non-null  int64  \n",
      " 3   Driving_License       381109 non-null  int64  \n",
      " 4   Region_Code           381109 non-null  float64\n",
      " 5   Previously_Insured    381109 non-null  int64  \n",
      " 6   Vehicle_Age           381109 non-null  object \n",
      " 7   Vehicle_Damage        381109 non-null  object \n",
      " 8   Annual_Premium        381109 non-null  float64\n",
      " 9   Policy_Sales_Channel  381109 non-null  float64\n",
      " 10  Vintage               381109 non-null  int64  \n",
      " 11  Response              381109 non-null  int64  \n",
      "dtypes: float64(3), int64(6), object(3)\n",
      "memory usage: 34.9+ MB\n"
     ]
    }
   ],
   "source": [
    "# summary of data types and missing values\n",
    "data.info()"
   ]
  },
  {
   "cell_type": "code",
   "execution_count": 8,
   "metadata": {},
   "outputs": [],
   "source": [
    "# change the values of the columns Gender and Vehicle_Damage to binary values (0, 1)\n",
    "\n",
    "data = pd.get_dummies(data, columns=['Gender', 'Vehicle_Damage', 'Driving_License', 'Previously_Insured', 'Response'], drop_first=True)\n",
    "\n",
    "# encode the values of the column Vehicle_Age to numerical values\n",
    "le = LabelEncoder()\n",
    "data['Vehicle_Age'] = le.fit_transform(data['Vehicle_Age'])\n",
    "\n",
    "# drop id and Vintage columns\n",
    "data = data.drop(['id', 'Vintage'], axis=1)\n",
    "\n",
    "# transfrom Annual_Premium to log scale\n",
    "data['Annual_Premium'] = np.log(data['Annual_Premium'])"
   ]
  },
  {
   "cell_type": "code",
   "execution_count": 9,
   "metadata": {},
   "outputs": [
    {
     "name": "stdout",
     "output_type": "stream",
     "text": [
      "<class 'pandas.core.frame.DataFrame'>\n",
      "RangeIndex: 381109 entries, 0 to 381108\n",
      "Data columns (total 10 columns):\n",
      " #   Column                          Non-Null Count   Dtype  \n",
      "---  ------                          --------------   -----  \n",
      " 0   Age                             381109 non-null  int64  \n",
      " 1   Region_Code                     381109 non-null  float64\n",
      " 2   Vehicle_Age                     381109 non-null  int64  \n",
      " 3   Annual_Premium                  381109 non-null  float64\n",
      " 4   Policy_Sales_Channel            381109 non-null  float64\n",
      " 5   Gender_Male                     381109 non-null  bool   \n",
      " 6   Vehicle_Damage_Yes              381109 non-null  bool   \n",
      " 7   Driving_License_1               381109 non-null  bool   \n",
      " 8   Previously_Insured_1            381109 non-null  bool   \n",
      " 9   Response_1                      381109 non-null  bool   \n",
      "dtypes: bool(5), float64(3), int64(2)\n",
      "memory usage: 16.4 MB\n"
     ]
    }
   ],
   "source": [
    "# summary of data types and missing values\n",
    "data.info()"
   ]
  },
  {
   "cell_type": "code",
   "execution_count": 10,
   "metadata": {},
   "outputs": [],
   "source": [
    "# select the top 4 values of Policy_Sales_Channel whose proportion is greater than 0.05 and replace the rest with 0\n",
    "data['Policy_Sales_Channel'] = data['Policy_Sales_Channel'].where(\n",
    "\t\t\t\t\t\t\t\t\t\t\t\t\t\t\t\t\t\t\t\t\t\t\t\t\t\t\t\t\t\t\tdata['Policy_Sales_Channel'].map(\n",
    "\t\t\t\t\t\t\t\t\t\t\t\t\t\t\t\t\t\t\t\t\t\t\t\t\t\t\t\t\t\t\t\tdata['Policy_Sales_Channel'].value_counts(normalize=True)\n",
    "\t\t\t\t\t\t\t\t\t\t\t\t\t\t\t\t\t\t\t\t\t\t\t\t\t\t\t\t\t\t\t).ge(0.05), 0\n",
    "                              \t\t\t\t\t\t\t\t\t\t\t\t\t\t\t)\n",
    "\n",
    "# select the top 4 values of Region_Code whose proportion is greater than 0.05 and replace the rest with 0\n",
    "data['Region_Code'] = data['Region_Code'].where(data['Region_Code'].map(data['Region_Code'].value_counts(normalize=True)).ge(0.04), 0)\n",
    "\n",
    "# convert the columns Policy_Sales_Channel and Region_Code to integer\n",
    "data['Policy_Sales_Channel'] = data['Policy_Sales_Channel'].astype(int)\n",
    "data['Region_Code'] = data['Region_Code'].astype(int)"
   ]
  },
  {
   "cell_type": "code",
   "execution_count": 11,
   "metadata": {},
   "outputs": [
    {
     "name": "stdout",
     "output_type": "stream",
     "text": [
      "Policy_Sales_Channel\n",
      "152    0.353663\n",
      "26     0.209127\n",
      "124    0.194157\n",
      "0      0.185907\n",
      "160    0.057146\n",
      "Name: proportion, dtype: float64\n",
      "Region_Code\n",
      "0     0.532144\n",
      "28    0.279225\n",
      "8     0.088891\n",
      "46    0.051820\n",
      "41    0.047921\n",
      "Name: proportion, dtype: float64\n"
     ]
    }
   ],
   "source": [
    "print(data['Policy_Sales_Channel'].value_counts(normalize=True))\n",
    "\n",
    "print(data['Region_Code'].value_counts(normalize=True))"
   ]
  },
  {
   "cell_type": "code",
   "execution_count": 12,
   "metadata": {},
   "outputs": [],
   "source": [
    "# apply one-hot encoding to the columns Policy_Sales_Channel and Region_Code\n",
    "data = pd.get_dummies(data, columns=['Policy_Sales_Channel', 'Region_Code'], drop_first=True)\n",
    "\n",
    "# Normalize Age, Vehicle_Age, Annual_Premium columns\n",
    "\n",
    "scaler = StandardScaler()\n",
    "\n",
    "data[['Age', 'Vehicle_Age', 'Annual_Premium']] = scaler.fit_transform(data[['Age', 'Vehicle_Age', 'Annual_Premium']])"
   ]
  },
  {
   "cell_type": "code",
   "execution_count": 13,
   "metadata": {},
   "outputs": [
    {
     "name": "stdout",
     "output_type": "stream",
     "text": [
      "<class 'pandas.core.frame.DataFrame'>\n",
      "RangeIndex: 381109 entries, 0 to 381108\n",
      "Data columns (total 16 columns):\n",
      " #   Column                          Non-Null Count   Dtype  \n",
      "---  ------                          --------------   -----  \n",
      " 0   Age                             381109 non-null  float64\n",
      " 1   Vehicle_Age                     381109 non-null  float64\n",
      " 2   Annual_Premium                  381109 non-null  float64\n",
      " 3   Gender_Male                     381109 non-null  bool   \n",
      " 4   Vehicle_Damage_Yes              381109 non-null  bool   \n",
      " 5   Driving_License_1               381109 non-null  bool   \n",
      " 6   Previously_Insured_1            381109 non-null  bool   \n",
      " 7   Response_1                      381109 non-null  bool   \n",
      " 8   Policy_Sales_Channel_26         381109 non-null  bool   \n",
      " 9   Policy_Sales_Channel_124        381109 non-null  bool   \n",
      " 10  Policy_Sales_Channel_152        381109 non-null  bool   \n",
      " 11  Policy_Sales_Channel_160        381109 non-null  bool   \n",
      " 12  Region_Code_8                   381109 non-null  bool   \n",
      " 13  Region_Code_28                  381109 non-null  bool   \n",
      " 14  Region_Code_41                  381109 non-null  bool   \n",
      " 15  Region_Code_46                  381109 non-null  bool   \n",
      "dtypes: bool(13), float64(3)\n",
      "memory usage: 13.4 MB\n"
     ]
    }
   ],
   "source": [
    "# summary of data types and missing values\n",
    "data.info()"
   ]
  },
  {
   "cell_type": "code",
   "execution_count": 15,
   "metadata": {},
   "outputs": [],
   "source": [
    "# save the data to a numpy file\n",
    "np.save(cwd + '/../datasets/train_preprocessed.npy', data)"
   ]
  }
 ],
 "metadata": {
  "kernelspec": {
   "display_name": "Python 3",
   "language": "python",
   "name": "python3"
  },
  "language_info": {
   "codemirror_mode": {
    "name": "ipython",
    "version": 3
   },
   "file_extension": ".py",
   "mimetype": "text/x-python",
   "name": "python",
   "nbconvert_exporter": "python",
   "pygments_lexer": "ipython3",
   "version": "3.12.2"
  }
 },
 "nbformat": 4,
 "nbformat_minor": 2
}
