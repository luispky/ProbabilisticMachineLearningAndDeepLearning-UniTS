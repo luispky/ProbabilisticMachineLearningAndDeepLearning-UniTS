{
 "cells": [
  {
   "cell_type": "code",
   "execution_count": 1,
   "metadata": {},
   "outputs": [],
   "source": [
    "from DenoisingDiffusionPM import EMA, LinearNoiseScheduler, NoisePredictor\n",
    "from DenoisingDiffusionPM import Dataset, DDPM, Architecture\n",
    "import torch\n",
    "import numpy as np\n"
   ]
  },
  {
   "cell_type": "code",
   "execution_count": 2,
   "metadata": {},
   "outputs": [
    {
     "name": "stdout",
     "output_type": "stream",
     "text": [
      "0.003814697265625\n",
      "0.003814697265625\n",
      "torch.Size([1000])\n",
      "torch.Size([1000, 1, 1])\n"
     ]
    }
   ],
   "source": [
    "betas = torch.linspace(1e-4, 2e-2, 1000)\n",
    "num_dims_to_add = 2\n",
    "betas2 = torch.linspace(1e-4, 2e-2, 1000).view(*([-1] + [1]*num_dims_to_add))\n",
    "\n",
    "# print memory usage of betas and betas2 in MB\n",
    "print(betas.element_size() * betas.nelement() / 1024**2)\n",
    "print(betas2.element_size() * betas2.nelement() / 1024**2)\n",
    "# print the shape of betas and betas2\n",
    "print(betas.shape)\n",
    "print(betas2.shape)"
   ]
  },
  {
   "cell_type": "code",
   "execution_count": 3,
   "metadata": {},
   "outputs": [],
   "source": [
    "dataset = Dataset()\n",
    "dataloader = dataset.generate_data()\n",
    "dataset_shape = dataset.get_dataset_shape()"
   ]
  },
  {
   "cell_type": "code",
   "execution_count": 4,
   "metadata": {},
   "outputs": [
    {
     "data": {
      "text/plain": [
       "(1200, 2)"
      ]
     },
     "execution_count": 4,
     "metadata": {},
     "output_type": "execute_result"
    }
   ],
   "source": [
    "dataset_shape "
   ]
  },
  {
   "cell_type": "code",
   "execution_count": 5,
   "metadata": {},
   "outputs": [],
   "source": [
    "scheduler = LinearNoiseScheduler(num_timesteps=100, dataset_shape=dataset_shape)"
   ]
  },
  {
   "cell_type": "code",
   "execution_count": 6,
   "metadata": {},
   "outputs": [
    {
     "data": {
      "text/plain": [
       "torch.Size([100, 1])"
      ]
     },
     "execution_count": 6,
     "metadata": {},
     "output_type": "execute_result"
    }
   ],
   "source": [
    "scheduler.betas.shape"
   ]
  },
  {
   "cell_type": "code",
   "execution_count": 7,
   "metadata": {},
   "outputs": [],
   "source": [
    "# extract a sample from the dataloader\n",
    "x, y = next(iter(dataloader))"
   ]
  },
  {
   "cell_type": "code",
   "execution_count": 8,
   "metadata": {},
   "outputs": [
    {
     "data": {
      "text/plain": [
       "torch.Size([14, 2])"
      ]
     },
     "execution_count": 8,
     "metadata": {},
     "output_type": "execute_result"
    }
   ],
   "source": [
    "x.shape"
   ]
  },
  {
   "cell_type": "code",
   "execution_count": 9,
   "metadata": {},
   "outputs": [
    {
     "name": "stdout",
     "output_type": "stream",
     "text": [
      "torch.Size([14])\n",
      "torch.Size([14, 2])\n"
     ]
    }
   ],
   "source": [
    "t = torch.randint(0, scheduler.num_timesteps, (x.shape[0],))\n",
    "print(t.shape)\n",
    "\n",
    "noise = torch.randn_like(x)\n",
    "print(noise.shape)"
   ]
  },
  {
   "cell_type": "code",
   "execution_count": 10,
   "metadata": {},
   "outputs": [
    {
     "data": {
      "text/plain": [
       "tensor([[ 2.1914, -0.7415],\n",
       "        [-3.0195,  4.1023],\n",
       "        [ 3.4742, -1.6270],\n",
       "        [ 6.1760, -3.9222],\n",
       "        [ 8.9461,  7.4753],\n",
       "        [-4.4781,  6.1663],\n",
       "        [-3.2277, -3.4854],\n",
       "        [-2.5680,  3.8849],\n",
       "        [ 6.3882,  5.8954],\n",
       "        [ 7.6141,  9.5528],\n",
       "        [ 2.1188, -3.1247],\n",
       "        [-3.2778, -3.9302],\n",
       "        [ 5.0305, -2.0355],\n",
       "        [-3.9435,  5.7470]])"
      ]
     },
     "execution_count": 10,
     "metadata": {},
     "output_type": "execute_result"
    }
   ],
   "source": [
    "x_t = scheduler.add_noise(x, noise, t)\n",
    "x_t"
   ]
  },
  {
   "cell_type": "code",
   "execution_count": 11,
   "metadata": {},
   "outputs": [],
   "source": [
    "architecture = Architecture(256, dataset_shape)"
   ]
  },
  {
   "cell_type": "code",
   "execution_count": 12,
   "metadata": {},
   "outputs": [],
   "source": [
    "# architecture.emb_layer(t)"
   ]
  },
  {
   "cell_type": "code",
   "execution_count": 13,
   "metadata": {},
   "outputs": [],
   "source": [
    "model = NoisePredictor(time_dim = 256, dataset_shape = dataset_shape , num_classes=2)\n",
    "# model(x_t, t, y)"
   ]
  },
  {
   "cell_type": "code",
   "execution_count": 14,
   "metadata": {},
   "outputs": [],
   "source": [
    "# t = t.unsqueeze(-1)\n",
    "# model.positional_encoding(t, 256)"
   ]
  },
  {
   "cell_type": "code",
   "execution_count": 15,
   "metadata": {},
   "outputs": [],
   "source": [
    "# from torch import nn\n",
    "# label_embedder = nn.Embedding(2, 256)\n",
    "# print(y.shape) # (14, 1)\n",
    "# if y.dtype!= torch.long:\n",
    "#     y = y.long()\n",
    "\n",
    "# y_embedded = label_embedder(y)\n",
    "# print(y_embedded.shape)\n"
   ]
  },
  {
   "cell_type": "code",
   "execution_count": 16,
   "metadata": {},
   "outputs": [
    {
     "data": {
      "text/plain": [
       "torch.Size([14])"
      ]
     },
     "execution_count": 16,
     "metadata": {},
     "output_type": "execute_result"
    }
   ],
   "source": [
    "t.shape"
   ]
  },
  {
   "cell_type": "code",
   "execution_count": 17,
   "metadata": {},
   "outputs": [],
   "source": [
    "# t = t.unsqueeze(-1)\n",
    "# t = model.positional_encoding(t, 256)\n",
    "# t.shape"
   ]
  },
  {
   "cell_type": "code",
   "execution_count": 18,
   "metadata": {},
   "outputs": [],
   "source": [
    "# (t + y_embedded).shape"
   ]
  },
  {
   "cell_type": "code",
   "execution_count": 22,
   "metadata": {},
   "outputs": [
    {
     "name": "stdout",
     "output_type": "stream",
     "text": [
      "torch.Size([14, 2])\n",
      "torch.Size([14])\n",
      "torch.Size([14])\n"
     ]
    }
   ],
   "source": [
    "# # print dimenstions of x_t, t, y\n",
    "print(x_t.shape)\n",
    "print(t.shape)\n",
    "print(y.squeeze().shape)"
   ]
  },
  {
   "cell_type": "code",
   "execution_count": 23,
   "metadata": {},
   "outputs": [
    {
     "name": "stdout",
     "output_type": "stream",
     "text": [
      "torch.Size([14, 256])\n",
      "torch.Size([14, 256])\n"
     ]
    },
    {
     "data": {
      "text/plain": [
       "tensor([[ 0.1666,  0.9483],\n",
       "        [ 0.1144,  0.5371],\n",
       "        [ 0.3037,  1.2256],\n",
       "        [ 0.6358,  1.8971],\n",
       "        [ 0.4528,  1.5270],\n",
       "        [ 0.4130,  0.8305],\n",
       "        [-0.1290,  0.2980],\n",
       "        [ 0.0845,  0.5078],\n",
       "        [ 0.2733,  1.1641],\n",
       "        [ 0.3240,  1.2667],\n",
       "        [ 0.2448,  1.1064],\n",
       "        [-0.1290,  0.2980],\n",
       "        [ 0.4884,  1.5990],\n",
       "        [ 0.3577,  0.7761]], grad_fn=<AddmmBackward0>)"
      ]
     },
     "execution_count": 23,
     "metadata": {},
     "output_type": "execute_result"
    }
   ],
   "source": [
    "model(x_t, t, y)"
   ]
  },
  {
   "cell_type": "code",
   "execution_count": 29,
   "metadata": {},
   "outputs": [
    {
     "data": {
      "text/plain": [
       "torch.Size([14, 256])"
      ]
     },
     "execution_count": 29,
     "metadata": {},
     "output_type": "execute_result"
    }
   ],
   "source": [
    "t_embedded = model.positional_encoding(t.unsqueeze(-1), 256)\n",
    "t_embedded.shape"
   ]
  },
  {
   "cell_type": "code",
   "execution_count": 32,
   "metadata": {},
   "outputs": [
    {
     "data": {
      "text/plain": [
       "torch.Size([14, 2])"
      ]
     },
     "execution_count": 32,
     "metadata": {},
     "output_type": "execute_result"
    }
   ],
   "source": [
    "emb = architecture.emb_layer(t_embedded)\n",
    "emb.shape"
   ]
  },
  {
   "cell_type": "code",
   "execution_count": 33,
   "metadata": {},
   "outputs": [
    {
     "data": {
      "text/plain": [
       "torch.Size([14, 2])"
      ]
     },
     "execution_count": 33,
     "metadata": {},
     "output_type": "execute_result"
    }
   ],
   "source": [
    "x.shape"
   ]
  },
  {
   "cell_type": "code",
   "execution_count": null,
   "metadata": {},
   "outputs": [],
   "source": []
  }
 ],
 "metadata": {
  "kernelspec": {
   "display_name": "DL",
   "language": "python",
   "name": "python3"
  },
  "language_info": {
   "codemirror_mode": {
    "name": "ipython",
    "version": 3
   },
   "file_extension": ".py",
   "mimetype": "text/x-python",
   "name": "python",
   "nbconvert_exporter": "python",
   "pygments_lexer": "ipython3",
   "version": "3.1.undefined"
  }
 },
 "nbformat": 4,
 "nbformat_minor": 2
}
